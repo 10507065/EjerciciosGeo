{
 "cells": [
  {
   "cell_type": "code",
   "execution_count": 1,
   "id": "southwest-christopher",
   "metadata": {},
   "outputs": [
    {
     "name": "stdout",
     "output_type": "stream",
     "text": [
      "Ingrese la palabra que desea evaluar: hola\n",
      "hola\n",
      "a-h\n",
      "l-h\n",
      "o-h\n",
      "h-h\n",
      "El texto no es palindromo!\n"
     ]
    }
   ],
   "source": [
    "igual, aux = 0, 0\n",
    "\n",
    "texto = input(\"Ingrese la palabra que desea evaluar: \")\n",
    "\n",
    "print(texto)\n",
    "\n",
    "textoaux = texto.replace(\" \", \"\")\n",
    "for ind in reversed(range(0, len(textoaux))):\n",
    "    print(textoaux[ind].lower(), textoaux[aux].lower(),sep=\"-\")\n",
    "    if textoaux[ind].lower() == textoaux[aux].lower():\n",
    "        igual += 1\n",
    "        aux += 1\n",
    "\n",
    "if len(textoaux) == igual:\n",
    "    print(\"El texto es palindromo!\")\n",
    "else:\n",
    "    print(\"El texto no es palindromo!\")"
   ]
  },
  {
   "cell_type": "code",
   "execution_count": null,
   "id": "comic-broadcasting",
   "metadata": {},
   "outputs": [],
   "source": []
  }
 ],
 "metadata": {
  "kernelspec": {
   "display_name": "Python 3",
   "language": "python",
   "name": "python3"
  },
  "language_info": {
   "codemirror_mode": {
    "name": "ipython",
    "version": 3
   },
   "file_extension": ".py",
   "mimetype": "text/x-python",
   "name": "python",
   "nbconvert_exporter": "python",
   "pygments_lexer": "ipython3",
   "version": "3.8.5"
  }
 },
 "nbformat": 4,
 "nbformat_minor": 5
}
