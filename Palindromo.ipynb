{
 "cells": [
  {
   "cell_type": "code",
   "execution_count": 1,
   "id": "renewable-battery",
   "metadata": {},
   "outputs": [],
   "source": [
    "import sys"
   ]
  },
  {
   "cell_type": "code",
   "execution_count": 10,
   "id": "minimal-change",
   "metadata": {},
   "outputs": [],
   "source": [
    "def load(file):\n",
    "    try:\n",
    "        with open(file) as in_file:\n",
    "            loaded_text = in_file.read().strip().split('\\n')\n",
    "            loaded_text = [x.lower() for x in loaded_text]\n",
    "            return loaded_text\n",
    "    except IOError as e:\n",
    "        print(\"{}\\nError opening {}. Terminating Program.\".format(e, file),file=sys.stderr)\n",
    "        sys.exit(1)"
   ]
  },
  {
   "cell_type": "code",
   "execution_count": 11,
   "id": "raised-trigger",
   "metadata": {},
   "outputs": [],
   "source": [
    "word_list = load('dictionary.txt')"
   ]
  },
  {
   "cell_type": "code",
   "execution_count": 12,
   "id": "cutting-nancy",
   "metadata": {},
   "outputs": [
    {
     "data": {
      "text/plain": [
       "'abandonment'"
      ]
     },
     "execution_count": 12,
     "metadata": {},
     "output_type": "execute_result"
    }
   ],
   "source": [
    "word_list[10]"
   ]
  },
  {
   "cell_type": "code",
   "execution_count": 13,
   "id": "prostate-resort",
   "metadata": {},
   "outputs": [
    {
     "name": "stdout",
     "output_type": "stream",
     "text": [
      "\n",
      "Number of palindromes found = 56\n",
      "\n",
      "aha\n",
      "bib\n",
      "bob\n",
      "boob\n",
      "bub\n",
      "civic\n",
      "dad\n",
      "deed\n",
      "deified\n",
      "did\n",
      "dud\n",
      "eke\n",
      "ere\n",
      "eve\n",
      "ewe\n",
      "eye\n",
      "gag\n",
      "gig\n",
      "hah\n",
      "huh\n",
      "kayak\n",
      "kook\n",
      "level\n",
      "madam\n",
      "mam\n",
      "minim\n",
      "mom\n",
      "mum\n",
      "naan\n",
      "nan\n",
      "noon\n",
      "nun\n",
      "pap\n",
      "peep\n",
      "pep\n",
      "pip\n",
      "poop\n",
      "pop\n",
      "pup\n",
      "radar\n",
      "redder\n",
      "refer\n",
      "rotor\n",
      "sagas\n",
      "sees\n",
      "sexes\n",
      "sis\n",
      "solos\n",
      "stats\n",
      "tat\n",
      "tenet\n",
      "tit\n",
      "toot\n",
      "tot\n",
      "tut\n",
      "wow\n"
     ]
    }
   ],
   "source": [
    "pali_list = []\n",
    "\n",
    "for word in word_list:\n",
    "    if len(word) >1 and word == word[::-1]:\n",
    "        pali_list.append(word)\n",
    "        \n",
    "print(\"\\nNumber of palindromes found = {}\\n\".format(len(pali_list)))\n",
    "print(*pali_list, sep='\\n')"
   ]
  },
  {
   "cell_type": "code",
   "execution_count": null,
   "id": "ranging-medicare",
   "metadata": {},
   "outputs": [],
   "source": []
  }
 ],
 "metadata": {
  "kernelspec": {
   "display_name": "Python 3",
   "language": "python",
   "name": "python3"
  },
  "language_info": {
   "codemirror_mode": {
    "name": "ipython",
    "version": 3
   },
   "file_extension": ".py",
   "mimetype": "text/x-python",
   "name": "python",
   "nbconvert_exporter": "python",
   "pygments_lexer": "ipython3",
   "version": "3.8.5"
  }
 },
 "nbformat": 4,
 "nbformat_minor": 5
}
